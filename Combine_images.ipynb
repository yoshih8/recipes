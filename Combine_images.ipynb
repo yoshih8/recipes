{
  "nbformat": 4,
  "nbformat_minor": 0,
  "metadata": {
    "colab": {
      "provenance": [],
      "authorship_tag": "ABX9TyPsJ6DWvyCcvW0G5y5gckdi",
      "include_colab_link": true
    },
    "kernelspec": {
      "name": "python3",
      "display_name": "Python 3"
    },
    "language_info": {
      "name": "python"
    }
  },
  "cells": [
    {
      "cell_type": "markdown",
      "metadata": {
        "id": "view-in-github",
        "colab_type": "text"
      },
      "source": [
        "<a href=\"https://colab.research.google.com/github/yoshih8/recipes/blob/main/Combine_images.ipynb\" target=\"_parent\"><img src=\"https://colab.research.google.com/assets/colab-badge.svg\" alt=\"Open In Colab\"/></a>"
      ]
    },
    {
      "cell_type": "code",
      "source": [
        "from google.colab import drive\n",
        "drive.mount('/content/drive')"
      ],
      "metadata": {
        "id": "dkgaCMXMM48C"
      },
      "execution_count": null,
      "outputs": []
    },
    {
      "cell_type": "code",
      "source": [
        "import os\n",
        "import random\n",
        "import cv2\n",
        "import numpy as np\n",
        "\n",
        "from PIL import Image\n",
        "from google.colab.patches import cv2_imshow\n",
        "\n",
        "random.seed(999)"
      ],
      "metadata": {
        "id": "3HBQzI0AOjKw"
      },
      "execution_count": null,
      "outputs": []
    },
    {
      "cell_type": "code",
      "source": [
        "##Plane\n",
        "#plane = 'Fetal brain'\n",
        "plane = 'Fetal thorax'\n",
        "#plane = 'Maternal cervix'\n",
        "#plane = 'Fetal femur'\n",
        "# plane = 'Fetal thorax'\n",
        "# plane = 'Other'\n",
        "\n",
        "#operator_number = None\n",
        "#operator_number = 'Op. 1'\n",
        "operator_number = 'Op. 2'\n",
        "#operator_number = 'Op. 3'\n",
        "# operator_number = 'Other'\n",
        "\n",
        "us_machine = None\n",
        "#us_machine = 'Voluson E6'\n",
        "#us_machine = 'Voluson S10'\n",
        "\n",
        "brain_plane = None\n",
        "#brain_plane = 'Trans-ventricular'; us_machine = 'Voluson E6' ###len: 408 \n",
        "# brain_plane = 'Trans-ventricular';us_machine = 'Voluson S10' ###len: 59 \n",
        "# brain_plane = 'Trans-ventricular'; us_machine = 'Aloka' ###len: 112 \n",
        "# brain_plane = 'Trans-ventricular'; us_machine = 'Other' ###len: 18\n",
        "\n",
        "#brain_plane = 'Trans-thalamic'; us_machine = 'Voluson E6' ###len: 1072 \n",
        "#brain_plane = 'Trans-thalamic'; us_machine = 'Voluson S10' ###len: 123 \n",
        "# brain_plane = 'Trans-thalamic'; us_machine = 'Aloka' ###len: 360 \n",
        "# brain_plane = 'Trans-thalamic'; us_machine = 'Other' ###len: 83 \n",
        "\n",
        "# brain_plane = 'Trans-cerebellum'; us_machine = 'Voluson E6' ###len: 492 \n",
        "# brain_plane = 'Trans-cerebellum'; us_machine = 'Voluson S10' ###len: 68 \n",
        "# brain_plane = 'Trans-cerebellum'; us_machine = 'Aloka' ###len: 134 \n",
        "# brain_plane = 'Trans-cerebellum'; us_machine = 'Other' ###len: 20 \n",
        "\n",
        "\n",
        "#image_size = 2\n",
        "# image_size = 32\n",
        "#mage_size = 64\n",
        "image_size = 128\n",
        "#image_size = 512\n",
        "\n",
        "# Number of workers for dataloader 设置成0避免报错\n",
        "workers = 1\n",
        "\n",
        "# Batch size during training\n",
        "#batch_size = 2\n",
        "#batch_size = 3\n",
        "#batch_size = 4\n",
        "batch_size = 8\n",
        "#batch_size = 16\n",
        "#batch_size = 128\n"
      ],
      "metadata": {
        "id": "HVvXztwuRCEt"
      },
      "execution_count": null,
      "outputs": []
    },
    {
      "cell_type": "code",
      "source": [
        "image_path = \"/content/drive/MyDrive/Original_Images/Train_Fetal thorax_Op. 2_None_None_128\"\n",
        "\n",
        "image_list = []\n",
        "\n",
        "for name in os.listdir(image_path):\n",
        "    image_list.append(name)\n",
        "\n",
        "print(image_list)\n",
        "print(len(image_list))"
      ],
      "metadata": {
        "id": "FqGQMJNVNcyn"
      },
      "execution_count": null,
      "outputs": []
    },
    {
      "cell_type": "markdown",
      "source": [
        "## **Combine 4 images**"
      ],
      "metadata": {
        "id": "xiRB1_UWSrk7"
      }
    },
    {
      "cell_type": "code",
      "source": [
        "img_num = 4\n",
        "random_images = random.sample(image_list, img_num)\n",
        "print(random_images)\n",
        "\n",
        "# Open 4 images \n",
        "\n",
        "image1 = Image.open(os.path.join(image_path, random_images[0]))\n",
        "image2 = Image.open(os.path.join(image_path, random_images[1]))\n",
        "image3 = Image.open(os.path.join(image_path, random_images[2]))\n",
        "image4 = Image.open(os.path.join(image_path, random_images[3]))\n",
        "\n",
        "# Get image size\n",
        "width, height = image1.size\n",
        "\n",
        "# Create new image\n",
        "new_image = Image.new('RGB', (2*width, 2*height))\n",
        "\n",
        "# Combine 4 images\n",
        "new_image.paste(image1, (0, 0))\n",
        "new_image.paste(image2, (width, 0))\n",
        "new_image.paste(image3, (0, height))\n",
        "new_image.paste(image4, (width, height))\n",
        "\n",
        "# Save images\n",
        "new_image.save(f\"/content/drive/MyDrive/Train_Model/{plane}_{operator_number}_{us_machine}_{brain_plane}_{img_num}.png\")"
      ],
      "metadata": {
        "id": "AFvmvRfeNkrs"
      },
      "execution_count": null,
      "outputs": []
    },
    {
      "cell_type": "markdown",
      "source": [
        "# **Combine 8 images**"
      ],
      "metadata": {
        "id": "gQ62CqpvSq3V"
      }
    },
    {
      "cell_type": "code",
      "source": [
        "img_num = 8\n",
        "\n",
        "random_images = random.sample(image_list, img_num)\n",
        "print(random_images)\n",
        "\n",
        "\n",
        "# Open 4 images \n",
        "\n",
        "image1 = Image.open(os.path.join(image_path, random_images[0]))\n",
        "image2 = Image.open(os.path.join(image_path, random_images[1]))\n",
        "image3 = Image.open(os.path.join(image_path, random_images[2]))\n",
        "image4 = Image.open(os.path.join(image_path, random_images[3]))\n",
        "image5 = Image.open(os.path.join(image_path, random_images[4]))\n",
        "image6 = Image.open(os.path.join(image_path, random_images[5]))\n",
        "image7 = Image.open(os.path.join(image_path, random_images[6]))\n",
        "image8 = Image.open(os.path.join(image_path, random_images[7]))\n",
        "\n",
        "\n",
        "# Get image size\n",
        "width, height = image1.size\n",
        "\n",
        "# Create new image\n",
        "new_image = Image.new('RGB', (4*width, 2*height))\n",
        "\n",
        "# Combine 4 images\n",
        "new_image.paste(image1, (0, 0))\n",
        "new_image.paste(image2, (width, 0))\n",
        "new_image.paste(image3, (2*width, 0))\n",
        "new_image.paste(image4, (3*width, 0))\n",
        "new_image.paste(image5, (0, height))\n",
        "new_image.paste(image6, (width, height))\n",
        "new_image.paste(image7, (2*width, height))\n",
        "new_image.paste(image8, (3*width, height))\n",
        "\n",
        "# Save images\n",
        "new_image.save(f\"/content/drive/MyDrive/Train_Model/{plane}_{operator_number}_{us_machine}_{brain_plane}_{img_num}.png\")"
      ],
      "metadata": {
        "id": "KetdblDjSn1D"
      },
      "execution_count": null,
      "outputs": []
    }
  ]
}