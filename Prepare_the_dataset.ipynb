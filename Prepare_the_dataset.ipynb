{
  "cells": [
    {
      "cell_type": "markdown",
      "metadata": {
        "id": "view-in-github",
        "colab_type": "text"
      },
      "source": [
        "<a href=\"https://colab.research.google.com/github/yoshih8/recipes/blob/main/Prepare_the_dataset.ipynb\" target=\"_parent\"><img src=\"https://colab.research.google.com/assets/colab-badge.svg\" alt=\"Open In Colab\"/></a>"
      ]
    },
    {
      "cell_type": "code",
      "execution_count": null,
      "metadata": {
        "colab": {
          "base_uri": "https://localhost:8080/"
        },
        "id": "cfce8dcb",
        "outputId": "0a11f724-e8fd-4cda-caa0-c12bd15fda4f"
      },
      "outputs": [
        {
          "output_type": "stream",
          "name": "stdout",
          "text": [
            "Looking in indexes: https://pypi.org/simple, https://us-python.pkg.dev/colab-wheels/public/simple/\n",
            "Requirement already satisfied: torchvision in /usr/local/lib/python3.9/dist-packages (0.14.1+cu116)\n",
            "Requirement already satisfied: numpy in /usr/local/lib/python3.9/dist-packages (from torchvision) (1.22.4)\n",
            "Requirement already satisfied: torch==1.13.1 in /usr/local/lib/python3.9/dist-packages (from torchvision) (1.13.1+cu116)\n",
            "Requirement already satisfied: pillow!=8.3.*,>=5.3.0 in /usr/local/lib/python3.9/dist-packages (from torchvision) (8.4.0)\n",
            "Requirement already satisfied: requests in /usr/local/lib/python3.9/dist-packages (from torchvision) (2.27.1)\n",
            "Requirement already satisfied: typing-extensions in /usr/local/lib/python3.9/dist-packages (from torchvision) (4.5.0)\n",
            "Requirement already satisfied: charset-normalizer~=2.0.0 in /usr/local/lib/python3.9/dist-packages (from requests->torchvision) (2.0.12)\n",
            "Requirement already satisfied: certifi>=2017.4.17 in /usr/local/lib/python3.9/dist-packages (from requests->torchvision) (2022.12.7)\n",
            "Requirement already satisfied: urllib3<1.27,>=1.21.1 in /usr/local/lib/python3.9/dist-packages (from requests->torchvision) (1.26.15)\n",
            "Requirement already satisfied: idna<4,>=2.5 in /usr/local/lib/python3.9/dist-packages (from requests->torchvision) (3.4)\n"
          ]
        }
      ],
      "source": [
        "pip install torchvision"
      ],
      "id": "cfce8dcb"
    },
    {
      "cell_type": "code",
      "execution_count": null,
      "metadata": {
        "colab": {
          "base_uri": "https://localhost:8080/",
          "height": 212
        },
        "id": "E_ztvTz71QZa",
        "outputId": "f6ae6e93-b2ab-41f6-affa-fbdbbadf2547"
      },
      "outputs": [
        {
          "output_type": "stream",
          "name": "stdout",
          "text": [
            "Looking in indexes: https://pypi.org/simple, https://us-python.pkg.dev/colab-wheels/public/simple/\n",
            "Collecting Pillow==9.3.0\n",
            "  Downloading Pillow-9.3.0-cp39-cp39-manylinux_2_28_x86_64.whl (3.3 MB)\n",
            "\u001b[2K     \u001b[90m━━━━━━━━━━━━━━━━━━━━━━━━━━━━━━━━━━━━━━━━\u001b[0m \u001b[32m3.3/3.3 MB\u001b[0m \u001b[31m29.9 MB/s\u001b[0m eta \u001b[36m0:00:00\u001b[0m\n",
            "\u001b[?25hInstalling collected packages: Pillow\n",
            "Successfully installed Pillow-9.3.0\n"
          ]
        },
        {
          "output_type": "display_data",
          "data": {
            "application/vnd.colab-display-data+json": {
              "pip_warning": {
                "packages": [
                  "PIL"
                ]
              }
            }
          },
          "metadata": {}
        }
      ],
      "source": [
        "pip install --ignore-installed Pillow==9.3.0"
      ],
      "id": "E_ztvTz71QZa"
    },
    {
      "cell_type": "code",
      "execution_count": null,
      "metadata": {
        "colab": {
          "base_uri": "https://localhost:8080/"
        },
        "id": "600285c5",
        "outputId": "571deaba-17d0-4a88-a9a2-76d854e192b0"
      },
      "outputs": [
        {
          "output_type": "stream",
          "name": "stdout",
          "text": [
            "Looking in indexes: https://pypi.org/simple, https://us-python.pkg.dev/colab-wheels/public/simple/\n",
            "Collecting datasets\n",
            "  Downloading datasets-2.10.1-py3-none-any.whl (469 kB)\n",
            "\u001b[2K     \u001b[90m━━━━━━━━━━━━━━━━━━━━━━━━━━━━━━━━━━━━━━━\u001b[0m \u001b[32m469.0/469.0 KB\u001b[0m \u001b[31m9.2 MB/s\u001b[0m eta \u001b[36m0:00:00\u001b[0m\n",
            "\u001b[?25hRequirement already satisfied: pyyaml>=5.1 in /usr/local/lib/python3.9/dist-packages (from datasets) (6.0)\n",
            "Requirement already satisfied: pyarrow>=6.0.0 in /usr/local/lib/python3.9/dist-packages (from datasets) (9.0.0)\n",
            "Collecting xxhash\n",
            "  Downloading xxhash-3.2.0-cp39-cp39-manylinux_2_17_x86_64.manylinux2014_x86_64.whl (212 kB)\n",
            "\u001b[2K     \u001b[90m━━━━━━━━━━━━━━━━━━━━━━━━━━━━━━━━━━━━━━\u001b[0m \u001b[32m212.2/212.2 KB\u001b[0m \u001b[31m17.5 MB/s\u001b[0m eta \u001b[36m0:00:00\u001b[0m\n",
            "\u001b[?25hCollecting dill<0.3.7,>=0.3.0\n",
            "  Downloading dill-0.3.6-py3-none-any.whl (110 kB)\n",
            "\u001b[2K     \u001b[90m━━━━━━━━━━━━━━━━━━━━━━━━━━━━━━━━━━━━━━━\u001b[0m \u001b[32m110.5/110.5 KB\u001b[0m \u001b[31m6.6 MB/s\u001b[0m eta \u001b[36m0:00:00\u001b[0m\n",
            "\u001b[?25hCollecting huggingface-hub<1.0.0,>=0.2.0\n",
            "  Downloading huggingface_hub-0.13.3-py3-none-any.whl (199 kB)\n",
            "\u001b[2K     \u001b[90m━━━━━━━━━━━━━━━━━━━━━━━━━━━━━━━━━━━━━━\u001b[0m \u001b[32m199.8/199.8 KB\u001b[0m \u001b[31m16.0 MB/s\u001b[0m eta \u001b[36m0:00:00\u001b[0m\n",
            "\u001b[?25hRequirement already satisfied: requests>=2.19.0 in /usr/local/lib/python3.9/dist-packages (from datasets) (2.27.1)\n",
            "Requirement already satisfied: pandas in /usr/local/lib/python3.9/dist-packages (from datasets) (1.4.4)\n",
            "Collecting responses<0.19\n",
            "  Downloading responses-0.18.0-py3-none-any.whl (38 kB)\n",
            "Collecting multiprocess\n",
            "  Downloading multiprocess-0.70.14-py39-none-any.whl (132 kB)\n",
            "\u001b[2K     \u001b[90m━━━━━━━━━━━━━━━━━━━━━━━━━━━━━━━━━━━━━━\u001b[0m \u001b[32m132.9/132.9 KB\u001b[0m \u001b[31m10.3 MB/s\u001b[0m eta \u001b[36m0:00:00\u001b[0m\n",
            "\u001b[?25hRequirement already satisfied: tqdm>=4.62.1 in /usr/local/lib/python3.9/dist-packages (from datasets) (4.65.0)\n",
            "Requirement already satisfied: fsspec[http]>=2021.11.1 in /usr/local/lib/python3.9/dist-packages (from datasets) (2023.3.0)\n",
            "Requirement already satisfied: packaging in /usr/local/lib/python3.9/dist-packages (from datasets) (23.0)\n",
            "Collecting aiohttp\n",
            "  Downloading aiohttp-3.8.4-cp39-cp39-manylinux_2_17_x86_64.manylinux2014_x86_64.whl (1.0 MB)\n",
            "\u001b[2K     \u001b[90m━━━━━━━━━━━━━━━━━━━━━━━━━━━━━━━━━━━━━━━━\u001b[0m \u001b[32m1.0/1.0 MB\u001b[0m \u001b[31m21.7 MB/s\u001b[0m eta \u001b[36m0:00:00\u001b[0m\n",
            "\u001b[?25hRequirement already satisfied: numpy>=1.17 in /usr/local/lib/python3.9/dist-packages (from datasets) (1.22.4)\n",
            "Collecting aiosignal>=1.1.2\n",
            "  Downloading aiosignal-1.3.1-py3-none-any.whl (7.6 kB)\n",
            "Requirement already satisfied: charset-normalizer<4.0,>=2.0 in /usr/local/lib/python3.9/dist-packages (from aiohttp->datasets) (2.0.12)\n",
            "Collecting async-timeout<5.0,>=4.0.0a3\n",
            "  Downloading async_timeout-4.0.2-py3-none-any.whl (5.8 kB)\n",
            "Collecting multidict<7.0,>=4.5\n",
            "  Downloading multidict-6.0.4-cp39-cp39-manylinux_2_17_x86_64.manylinux2014_x86_64.whl (114 kB)\n",
            "\u001b[2K     \u001b[90m━━━━━━━━━━━━━━━━━━━━━━━━━━━━━━━━━━━━━━\u001b[0m \u001b[32m114.2/114.2 KB\u001b[0m \u001b[31m13.6 MB/s\u001b[0m eta \u001b[36m0:00:00\u001b[0m\n",
            "\u001b[?25hRequirement already satisfied: attrs>=17.3.0 in /usr/local/lib/python3.9/dist-packages (from aiohttp->datasets) (22.2.0)\n",
            "Collecting frozenlist>=1.1.1\n",
            "  Downloading frozenlist-1.3.3-cp39-cp39-manylinux_2_5_x86_64.manylinux1_x86_64.manylinux_2_17_x86_64.manylinux2014_x86_64.whl (158 kB)\n",
            "\u001b[2K     \u001b[90m━━━━━━━━━━━━━━━━━━━━━━━━━━━━━━━━━━━━━━━\u001b[0m \u001b[32m158.8/158.8 KB\u001b[0m \u001b[31m7.3 MB/s\u001b[0m eta \u001b[36m0:00:00\u001b[0m\n",
            "\u001b[?25hCollecting yarl<2.0,>=1.0\n",
            "  Downloading yarl-1.8.2-cp39-cp39-manylinux_2_17_x86_64.manylinux2014_x86_64.whl (264 kB)\n",
            "\u001b[2K     \u001b[90m━━━━━━━━━━━━━━━━━━━━━━━━━━━━━━━━━━━━━━\u001b[0m \u001b[32m264.6/264.6 KB\u001b[0m \u001b[31m22.0 MB/s\u001b[0m eta \u001b[36m0:00:00\u001b[0m\n",
            "\u001b[?25hRequirement already satisfied: filelock in /usr/local/lib/python3.9/dist-packages (from huggingface-hub<1.0.0,>=0.2.0->datasets) (3.10.0)\n",
            "Requirement already satisfied: typing-extensions>=3.7.4.3 in /usr/local/lib/python3.9/dist-packages (from huggingface-hub<1.0.0,>=0.2.0->datasets) (4.5.0)\n",
            "Requirement already satisfied: idna<4,>=2.5 in /usr/local/lib/python3.9/dist-packages (from requests>=2.19.0->datasets) (3.4)\n",
            "Requirement already satisfied: urllib3<1.27,>=1.21.1 in /usr/local/lib/python3.9/dist-packages (from requests>=2.19.0->datasets) (1.26.15)\n",
            "Requirement already satisfied: certifi>=2017.4.17 in /usr/local/lib/python3.9/dist-packages (from requests>=2.19.0->datasets) (2022.12.7)\n",
            "Requirement already satisfied: pytz>=2020.1 in /usr/local/lib/python3.9/dist-packages (from pandas->datasets) (2022.7.1)\n",
            "Requirement already satisfied: python-dateutil>=2.8.1 in /usr/local/lib/python3.9/dist-packages (from pandas->datasets) (2.8.2)\n",
            "Requirement already satisfied: six>=1.5 in /usr/local/lib/python3.9/dist-packages (from python-dateutil>=2.8.1->pandas->datasets) (1.15.0)\n",
            "Installing collected packages: xxhash, multidict, frozenlist, dill, async-timeout, yarl, responses, multiprocess, huggingface-hub, aiosignal, aiohttp, datasets\n",
            "Successfully installed aiohttp-3.8.4 aiosignal-1.3.1 async-timeout-4.0.2 datasets-2.10.1 dill-0.3.6 frozenlist-1.3.3 huggingface-hub-0.13.3 multidict-6.0.4 multiprocess-0.70.14 responses-0.18.0 xxhash-3.2.0 yarl-1.8.2\n"
          ]
        }
      ],
      "source": [
        "pip install datasets"
      ],
      "id": "600285c5"
    },
    {
      "cell_type": "code",
      "execution_count": null,
      "metadata": {
        "colab": {
          "base_uri": "https://localhost:8080/"
        },
        "id": "d6f6f619",
        "outputId": "2ffe45ff-f769-4bef-e0fb-27c7ae0cc25a"
      },
      "outputs": [
        {
          "output_type": "stream",
          "name": "stdout",
          "text": [
            "Looking in indexes: https://pypi.org/simple, https://us-python.pkg.dev/colab-wheels/public/simple/\n",
            "Collecting diffusers\n",
            "  Downloading diffusers-0.14.0-py3-none-any.whl (737 kB)\n",
            "\u001b[2K     \u001b[90m━━━━━━━━━━━━━━━━━━━━━━━━━━━━━━━━━━━━━━\u001b[0m \u001b[32m737.4/737.4 KB\u001b[0m \u001b[31m13.2 MB/s\u001b[0m eta \u001b[36m0:00:00\u001b[0m\n",
            "\u001b[?25hRequirement already satisfied: importlib-metadata in /usr/local/lib/python3.9/dist-packages (from diffusers) (6.0.0)\n",
            "Requirement already satisfied: regex!=2019.12.17 in /usr/local/lib/python3.9/dist-packages (from diffusers) (2022.10.31)\n",
            "Requirement already satisfied: requests in /usr/local/lib/python3.9/dist-packages (from diffusers) (2.27.1)\n",
            "Requirement already satisfied: huggingface-hub>=0.10.0 in /usr/local/lib/python3.9/dist-packages (from diffusers) (0.13.3)\n",
            "Requirement already satisfied: Pillow in /usr/local/lib/python3.9/dist-packages (from diffusers) (9.3.0)\n",
            "Requirement already satisfied: filelock in /usr/local/lib/python3.9/dist-packages (from diffusers) (3.10.0)\n",
            "Requirement already satisfied: numpy in /usr/local/lib/python3.9/dist-packages (from diffusers) (1.22.4)\n",
            "Requirement already satisfied: typing-extensions>=3.7.4.3 in /usr/local/lib/python3.9/dist-packages (from huggingface-hub>=0.10.0->diffusers) (4.5.0)\n",
            "Requirement already satisfied: tqdm>=4.42.1 in /usr/local/lib/python3.9/dist-packages (from huggingface-hub>=0.10.0->diffusers) (4.65.0)\n",
            "Requirement already satisfied: packaging>=20.9 in /usr/local/lib/python3.9/dist-packages (from huggingface-hub>=0.10.0->diffusers) (23.0)\n",
            "Requirement already satisfied: pyyaml>=5.1 in /usr/local/lib/python3.9/dist-packages (from huggingface-hub>=0.10.0->diffusers) (6.0)\n",
            "Requirement already satisfied: zipp>=0.5 in /usr/local/lib/python3.9/dist-packages (from importlib-metadata->diffusers) (3.15.0)\n",
            "Requirement already satisfied: certifi>=2017.4.17 in /usr/local/lib/python3.9/dist-packages (from requests->diffusers) (2022.12.7)\n",
            "Requirement already satisfied: idna<4,>=2.5 in /usr/local/lib/python3.9/dist-packages (from requests->diffusers) (3.4)\n",
            "Requirement already satisfied: charset-normalizer~=2.0.0 in /usr/local/lib/python3.9/dist-packages (from requests->diffusers) (2.0.12)\n",
            "Requirement already satisfied: urllib3<1.27,>=1.21.1 in /usr/local/lib/python3.9/dist-packages (from requests->diffusers) (1.26.15)\n",
            "Installing collected packages: diffusers\n",
            "Successfully installed diffusers-0.14.0\n"
          ]
        }
      ],
      "source": [
        "pip install diffusers"
      ],
      "id": "d6f6f619"
    },
    {
      "cell_type": "code",
      "execution_count": null,
      "metadata": {
        "colab": {
          "base_uri": "https://localhost:8080/"
        },
        "id": "1SOu_evlySXi",
        "outputId": "2827ae4e-1188-4b43-8332-f395689c11fe"
      },
      "outputs": [
        {
          "output_type": "stream",
          "name": "stdout",
          "text": [
            "Drive already mounted at /content/drive; to attempt to forcibly remount, call drive.mount(\"/content/drive\", force_remount=True).\n"
          ]
        }
      ],
      "source": [
        "from google.colab import drive\n",
        "drive.mount('/content/drive')"
      ],
      "id": "1SOu_evlySXi"
    },
    {
      "cell_type": "code",
      "execution_count": null,
      "metadata": {
        "colab": {
          "base_uri": "https://localhost:8080/"
        },
        "id": "04f86e8b",
        "outputId": "c2e3ed8f-5e89-47d1-8483-6402dbed9939"
      },
      "outputs": [
        {
          "output_type": "stream",
          "name": "stdout",
          "text": [
            "Device: cuda:0\n",
            "Random Seed:  999\n"
          ]
        },
        {
          "output_type": "execute_result",
          "data": {
            "text/plain": [
              "<torch._C.Generator at 0x7fa0bb361390>"
            ]
          },
          "metadata": {},
          "execution_count": 2
        }
      ],
      "source": [
        "import os\n",
        "import random\n",
        "import numpy as np\n",
        "import pandas as pd\n",
        "import matplotlib.pyplot as plt\n",
        "from skimage import io\n",
        "\n",
        "\n",
        "import torch\n",
        "from torch.utils.data import Dataset, DataLoader\n",
        "import torchvision.transforms as transforms\n",
        "import torchvision.utils as vutils\n",
        "\n",
        "HOME_PATH = os.path.expanduser(f'~')\n",
        "USERNAME = os.path.split(HOME_PATH)[1]\n",
        "\n",
        "\n",
        "dataroot = '/content/drive/MyDrive/Images'\n",
        "ref = '/content/drive/MyDrive/FETAL_PLANES_DB_data.csv'\n",
        "\n",
        "device = torch.device(\"cuda:0\" if torch.cuda.is_available() else \"cpu\")\n",
        "\n",
        "print(f'Device: {device}')\n",
        "\n",
        "# Set random seed for reproducibility\n",
        "manualSeed = 999\n",
        "#manualSeed = random.randint(1, 500) # use if you want new results\n",
        "print(\"Random Seed: \", manualSeed)\n",
        "random.seed(manualSeed)\n",
        "torch.manual_seed(manualSeed)\n"
      ],
      "id": "04f86e8b"
    },
    {
      "cell_type": "markdown",
      "metadata": {
        "id": "b6c11dda"
      },
      "source": [
        "# Prepare dataset"
      ],
      "id": "b6c11dda"
    },
    {
      "cell_type": "code",
      "execution_count": null,
      "metadata": {
        "id": "57300021"
      },
      "outputs": [],
      "source": [
        "class FetalPlaneDataset(Dataset):\n",
        "    \"\"\"Fetal Plane dataset.\"\"\"\n",
        "\n",
        "    def __init__(self, root_dir, ref, \n",
        "                 plane, \n",
        "                 brain_plane=None, \n",
        "                 us_machine=None, \n",
        "                 operator_number=None, \n",
        "                 transform=None\n",
        "                ):\n",
        "        \"\"\"\n",
        "        Args:\n",
        "            csv_file (string): Path to the csv file with annotations.\n",
        "            root_dir (string): Directory with all the images.\n",
        "            transform (callable, optional): Optional transform to be applied on a sample.\n",
        "            plane: 'Fetal brain'; 'Fetal thorax'; 'Maternal cervix'; 'Fetal femur'; 'Fetal thorax'; 'Other'\n",
        "            brain_plane: 'Trans-ventricular'; 'Trans-thalamic'; 'Trans-cerebellum'\n",
        "            us_machine: 'Voluson E6';'Voluson S10'\n",
        "            operator_number: 'Op. 1'; 'Op. 2'; 'Op. 3';'Other'\n",
        "            \n",
        "        return image\n",
        "        \"\"\"\n",
        "        self.root_dir = root_dir\n",
        "        self.ref = pd.read_csv(ref, sep=';')\n",
        "        self.ref = self.ref[self.ref['Plane'] == plane]\n",
        "        if plane == 'Fetal brain':\n",
        "            self.ref = self.ref[self.ref['Brain_plane'] == brain_plane]\n",
        "        if us_machine is not None:\n",
        "            self.ref = self.ref[self.ref['US_Machine'] == us_machine]\n",
        "        if operator_number is not None:\n",
        "            self.ref = self.ref[self.ref['Operator'] == operator_number]\n",
        "\n",
        "        self.transform = transform\n",
        "\n",
        "    def __len__(self):\n",
        "        return len(self.ref)\n",
        "\n",
        "    def __getitem__(self, idx):\n",
        "        \n",
        "        #print(f'idx: {idx} \\n')\n",
        "        #print(f'self.ref.iloc[idx, 0]: {self.ref.iloc[idx, 0]} \\n')\n",
        "       \n",
        "        img_name = os.path.join(self.root_dir,\n",
        "                                self.ref.iloc[idx, 0] + '.png')\n",
        "        #print(img_name)\n",
        "        \n",
        "        image = io.imread(img_name)\n",
        "        \n",
        "        #print(type(image))\n",
        "        #print(image.dtype)\n",
        "\n",
        "        if self.transform:\n",
        "            image = self.transform(image)\n",
        "\n",
        "        return image"
      ],
      "id": "57300021"
    },
    {
      "cell_type": "markdown",
      "metadata": {
        "id": "db8748c2"
      },
      "source": [
        "# Prepare training dataset"
      ],
      "id": "db8748c2"
    },
    {
      "cell_type": "code",
      "execution_count": null,
      "metadata": {
        "colab": {
          "base_uri": "https://localhost:8080/"
        },
        "id": "5bbfdef0",
        "outputId": "1e32663e-721d-46ce-a532-13c8ba284240"
      },
      "outputs": [
        {
          "output_type": "stream",
          "name": "stdout",
          "text": [
            "lenght 147\n",
            "torch.Size([8, 1, 128, 128])\n"
          ]
        },
        {
          "output_type": "display_data",
          "data": {
            "text/plain": [
              "<Figure size 720x720 with 1 Axes>"
            ],
            "image/png": "[encoded data removed]"
          },
          "metadata": {
            "needs_background": "light"
          }
        }
      ],
      "source": [
        "# Root directory for dataset\n",
        "#dataroot = FULL_DATA_REPO_PATH + \"fetal_planes/Images\"\n",
        "#ref = FULL_DATA_REPO_PATH + \"FETAL_PLANES_DB_data.csv\"\n",
        "\n",
        "##Plane\n",
        "# plane = 'Fetal brain'\n",
        "plane = 'Fetal thorax'\n",
        "#plane = 'Maternal cervix'\n",
        "# plane = 'Fetal femur'\n",
        "# plane = 'Fetal thorax'\n",
        "# plane = 'Other'\n",
        "\n",
        "#operator_number = None\n",
        "#operator_number = 'Op. 1'\n",
        "#operator_number = 'Op. 2'\n",
        "#operator_number = 'Op. 3'\n",
        "operator_number = 'Other'\n",
        "\n",
        "us_machine = None\n",
        "#us_machine = 'Voluson E6'\n",
        "#us_machine = 'Voluson S10'\n",
        "\n",
        "brain_plane = None\n",
        "# brain_plane = 'Trans-ventricular'; us_machine = 'Voluson E6' ###len: 408 \n",
        "#brain_plane = 'Trans-ventricular';us_machine = 'Voluson S10' ###len: 59 \n",
        "#brain_plane = 'Trans-ventricular'; us_machine = 'Aloka' ###len: 112 \n",
        "# brain_plane = 'Trans-ventricular'; us_machine = 'Other' ###len: 18\n",
        "\n",
        "# brain_plane = 'Trans-thalamic'; us_machine = 'Voluson E6' ###len: 1072 \n",
        "# brain_plane = 'Trans-thalamic'; us_machine = 'Voluson S10' ###len: 123 \n",
        "# brain_plane = 'Trans-thalamic'; us_machine = 'Aloka' ###len: 360 \n",
        "# brain_plane = 'Trans-thalamic'; us_machine = 'Other' ###len: 83 \n",
        "\n",
        "# brain_plane = 'Trans-cerebellum'; us_machine = 'Voluson E6' ###len: 492 \n",
        "# brain_plane = 'Trans-cerebellum'; us_machine = 'Voluson S10' ###len: 68 \n",
        "# brain_plane = 'Trans-cerebellum'; us_machine = 'Aloka' ###len: 134 \n",
        "# brain_plane = 'Trans-cerebellum'; us_machine = 'Other' ###len: 20 \n",
        "\n",
        "\n",
        "#image_size = 28\n",
        "# image_size = 32\n",
        "#image_size = 64\n",
        "image_size = 128\n",
        "#image_size = 512\n",
        "\n",
        "# Number of workers for dataloader 设置成0避免报错\n",
        "workers = 1\n",
        "\n",
        "# Batch size during training\n",
        "#batch_size = 2\n",
        "#batch_size = 3\n",
        "#batch_size = 4\n",
        "batch_size = 8\n",
        "#batch_size = 16\n",
        "#atch_size = 128\n",
        "\n",
        "SHUFFLE_T = True\n",
        "SHUFFLE_F = False\n",
        "\n",
        "#preprocess\n",
        "transform_operations = transforms.Compose([\n",
        "                        transforms.ToTensor(),\n",
        "                        transforms.RandomHorizontalFlip(),  # Randomly flip (data augmentation)\n",
        "                        #mt.RandRotate(range_x=0.1, prob=0.5),\n",
        "                        #mt.RandZoom(prob=0.5, min_zoom=1, max_zoom=1.1),\n",
        "                        #mt.Resize([image_size, image_size]),\n",
        "                        transforms.Resize([image_size, image_size]),# Resize\n",
        "                        transforms.Normalize((0.5,), (0.5,)), #mean=0.5, std=0.5\n",
        "                        ])\n",
        "\n",
        "dataset = FetalPlaneDataset(root_dir=dataroot, \n",
        "                            ref=ref,\n",
        "                            plane=plane,\n",
        "                            brain_plane=brain_plane,\n",
        "                            us_machine=us_machine,\n",
        "                            operator_number=operator_number,\n",
        "                            transform=transform_operations)\n",
        "\n",
        "number_of_images = dataset.__len__()\n",
        "print(f'lenght {number_of_images}')\n",
        "\n",
        "#train_dataloader\n",
        "# Create a dataloader from the dataset to serve up the images in batches\n",
        "train_dataloader = DataLoader(dataset, \n",
        "                        batch_size=batch_size,\n",
        "                        shuffle=SHUFFLE_T,\n",
        "                        drop_last=True) \n",
        "                        #num_workers=workers)\n",
        "\n",
        "# Plot some training images\n",
        "real_batch = next(iter(train_dataloader))\n",
        "print(real_batch.shape)\n",
        "\n",
        "plt.figure(figsize=(10,10))\n",
        "plt.axis(\"off\")\n",
        "plt.title(f'Images from {plane}')\n",
        "grid_images=vutils.make_grid(real_batch.to(device)[:64], nrow=8, padding=2, normalize=True)\n",
        "plt.imshow(np.transpose(grid_images.cpu(),(1,2,0)))\n",
        "plt.show()"
      ],
      "id": "5bbfdef0"
    },
    {
      "cell_type": "code",
      "source": [
        "dataset.ref.iloc[:,0]"
      ],
      "metadata": {
        "colab": {
          "base_uri": "https://localhost:8080/"
        },
        "id": "7DGOi-rR0aoh",
        "outputId": "660bd898-8206-405b-92c6-8a29b4918957"
      },
      "id": "7DGOi-rR0aoh",
      "execution_count": null,
      "outputs": [
        {
          "output_type": "execute_result",
          "data": {
            "text/plain": [
              "1322     Patient00216_Plane6_1_of_3\n",
              "1323     Patient00216_Plane6_2_of_3\n",
              "1324     Patient00216_Plane6_3_of_3\n",
              "1424     Patient00305_Plane6_1_of_3\n",
              "1425     Patient00305_Plane6_2_of_3\n",
              "                    ...            \n",
              "12371    Patient01786_Plane6_1_of_1\n",
              "12376    Patient01787_Plane6_1_of_2\n",
              "12377    Patient01787_Plane6_2_of_2\n",
              "12387    Patient01789_Plane6_1_of_1\n",
              "12399    Patient01792_Plane6_1_of_1\n",
              "Name: Image_name, Length: 147, dtype: object"
            ]
          },
          "metadata": {},
          "execution_count": 5
        }
      ]
    },
    {
      "cell_type": "markdown",
      "source": [
        "Create a list which includes the all images we selected."
      ],
      "metadata": {
        "id": "OUzvqv_NlJQc"
      },
      "id": "OUzvqv_NlJQc"
    },
    {
      "cell_type": "code",
      "source": [
        "all_images = []\n",
        "for idx in range(0, number_of_images):\n",
        "    all_images.append(dataset.ref.iloc[idx, 0])\n",
        "\n",
        "print(all_images)\n",
        "print(len(all_images))"
      ],
      "metadata": {
        "colab": {
          "base_uri": "https://localhost:8080/"
        },
        "id": "7h0gB2kYhfPr",
        "outputId": "82a6b4de-42cf-4e01-c1ce-8b6c22047d33"
      },
      "id": "7h0gB2kYhfPr",
      "execution_count": null,
      "outputs": [
        {
          "output_type": "stream",
          "name": "stdout",
          "text": [
            "['Patient00216_Plane6_1_of_3', 'Patient00216_Plane6_2_of_3', 'Patient00216_Plane6_3_of_3', 'Patient00305_Plane6_1_of_3', 'Patient00305_Plane6_2_of_3', 'Patient00305_Plane6_3_of_3', 'Patient00644_Plane6_1_of_1', 'Patient00686_Plane6_1_of_1', 'Patient00692_Plane6_1_of_2', 'Patient00692_Plane6_2_of_2', 'Patient00696_Plane6_1_of_2', 'Patient00696_Plane6_2_of_2', 'Patient00698_Plane6_1_of_1', 'Patient00708_Plane6_1_of_2', 'Patient00708_Plane6_2_of_2', 'Patient00709_Plane6_1_of_1', 'Patient00710_Plane6_1_of_1', 'Patient00724_Plane6_1_of_2', 'Patient00724_Plane6_2_of_2', 'Patient00776_Plane6_1_of_1', 'Patient00815_Plane6_1_of_3', 'Patient00815_Plane6_2_of_3', 'Patient00815_Plane6_3_of_3', 'Patient00816_Plane6_1_of_1', 'Patient00840_Plane6_1_of_1', 'Patient00841_Plane6_1_of_2', 'Patient00841_Plane6_2_of_2', 'Patient00930_Plane6_1_of_3', 'Patient00930_Plane6_2_of_3', 'Patient00930_Plane6_3_of_3', 'Patient00951_Plane6_1_of_1', 'Patient00962_Plane6_1_of_2', 'Patient00962_Plane6_2_of_2', 'Patient01016_Plane6_1_of_1', 'Patient01018_Plane6_1_of_1', 'Patient01098_Plane6_1_of_1', 'Patient01100_Plane6_1_of_1', 'Patient01151_Plane6_1_of_3', 'Patient01151_Plane6_2_of_3', 'Patient01151_Plane6_3_of_3', 'Patient01271_Plane6_1_of_2', 'Patient01271_Plane6_2_of_2', 'Patient01275_Plane6_1_of_1', 'Patient01306_Plane6_1_of_1', 'Patient01372_Plane6_1_of_2', 'Patient01372_Plane6_2_of_2', 'Patient01389_Plane6_1_of_1', 'Patient01391_Plane6_1_of_2', 'Patient01391_Plane6_2_of_2', 'Patient01392_Plane6_1_of_1', 'Patient01395_Plane6_1_of_1', 'Patient01398_Plane6_1_of_1', 'Patient01399_Plane6_1_of_1', 'Patient01402_Plane6_1_of_1', 'Patient01405_Plane6_1_of_1', 'Patient01406_Plane6_1_of_1', 'Patient01408_Plane6_1_of_2', 'Patient01408_Plane6_2_of_2', 'Patient01409_Plane6_1_of_2', 'Patient01409_Plane6_2_of_2', 'Patient01433_Plane6_1_of_5', 'Patient01433_Plane6_2_of_5', 'Patient01433_Plane6_3_of_5', 'Patient01433_Plane6_4_of_5', 'Patient01433_Plane6_5_of_5', 'Patient01436_Plane6_1_of_1', 'Patient01440_Plane6_1_of_1', 'Patient01442_Plane6_1_of_1', 'Patient01443_Plane6_1_of_1', 'Patient01445_Plane6_1_of_1', 'Patient01453_Plane6_1_of_1', 'Patient01456_Plane6_1_of_1', 'Patient01471_Plane6_1_of_2', 'Patient01471_Plane6_2_of_2', 'Patient01475_Plane6_1_of_2', 'Patient01475_Plane6_2_of_2', 'Patient01480_Plane6_1_of_1', 'Patient01487_Plane6_1_of_1', 'Patient01489_Plane6_1_of_1', 'Patient01496_Plane6_1_of_1', 'Patient01500_Plane6_1_of_1', 'Patient01501_Plane6_1_of_1', 'Patient01534_Plane6_1_of_1', 'Patient01539_Plane6_1_of_1', 'Patient01540_Plane6_1_of_1', 'Patient01541_Plane6_1_of_2', 'Patient01541_Plane6_2_of_2', 'Patient01543_Plane6_1_of_1', 'Patient01551_Plane6_1_of_1', 'Patient01567_Plane6_1_of_2', 'Patient01567_Plane6_2_of_2', 'Patient01588_Plane6_1_of_2', 'Patient01588_Plane6_2_of_2', 'Patient01590_Plane6_1_of_1', 'Patient01610_Plane6_1_of_2', 'Patient01610_Plane6_2_of_2', 'Patient01616_Plane6_1_of_1', 'Patient01625_Plane6_1_of_1', 'Patient01634_Plane6_1_of_1', 'Patient01647_Plane6_1_of_4', 'Patient01647_Plane6_2_of_4', 'Patient01647_Plane6_3_of_4', 'Patient01647_Plane6_4_of_4', 'Patient01648_Plane6_1_of_2', 'Patient01648_Plane6_2_of_2', 'Patient01650_Plane6_1_of_1', 'Patient01652_Plane6_1_of_1', 'Patient01677_Plane6_1_of_1', 'Patient01680_Plane6_1_of_1', 'Patient01689_Plane6_1_of_3', 'Patient01689_Plane6_2_of_3', 'Patient01689_Plane6_3_of_3', 'Patient01692_Plane6_1_of_1', 'Patient01693_Plane6_1_of_2', 'Patient01693_Plane6_2_of_2', 'Patient01695_Plane6_1_of_1', 'Patient01698_Plane6_1_of_3', 'Patient01698_Plane6_2_of_3', 'Patient01698_Plane6_3_of_3', 'Patient01710_Plane6_1_of_2', 'Patient01710_Plane6_2_of_2', 'Patient01711_Plane6_1_of_3', 'Patient01711_Plane6_2_of_3', 'Patient01711_Plane6_3_of_3', 'Patient01712_Plane6_1_of_1', 'Patient01713_Plane6_1_of_1', 'Patient01718_Plane6_1_of_2', 'Patient01718_Plane6_2_of_2', 'Patient01760_Plane6_1_of_1', 'Patient01761_Plane6_1_of_5', 'Patient01761_Plane6_2_of_5', 'Patient01761_Plane6_3_of_5', 'Patient01761_Plane6_4_of_5', 'Patient01761_Plane6_5_of_5', 'Patient01763_Plane6_1_of_1', 'Patient01777_Plane6_1_of_1', 'Patient01778_Plane6_1_of_2', 'Patient01778_Plane6_2_of_2', 'Patient01779_Plane6_1_of_3', 'Patient01779_Plane6_2_of_3', 'Patient01779_Plane6_3_of_3', 'Patient01785_Plane6_1_of_1', 'Patient01786_Plane6_1_of_1', 'Patient01787_Plane6_1_of_2', 'Patient01787_Plane6_2_of_2', 'Patient01789_Plane6_1_of_1', 'Patient01792_Plane6_1_of_1']\n",
            "147\n"
          ]
        }
      ]
    },
    {
      "cell_type": "markdown",
      "source": [
        "Shuffle the images in this list"
      ],
      "metadata": {
        "id": "vaeUp6nElHUO"
      },
      "id": "vaeUp6nElHUO"
    },
    {
      "cell_type": "code",
      "source": [
        "random.shuffle(all_images)  # randomly shuffles the ordering of filenames. random seed = 999\n",
        "print(all_images)"
      ],
      "metadata": {
        "colab": {
          "base_uri": "https://localhost:8080/"
        },
        "id": "f4v2Bv8Ze-2H",
        "outputId": "9582c663-84a0-483f-90dc-68b2eab49502"
      },
      "id": "f4v2Bv8Ze-2H",
      "execution_count": null,
      "outputs": [
        {
          "output_type": "stream",
          "name": "stdout",
          "text": [
            "['Patient01475_Plane6_2_of_2', 'Patient01698_Plane6_3_of_3', 'Patient01625_Plane6_1_of_1', 'Patient01471_Plane6_1_of_2', 'Patient01402_Plane6_1_of_1', 'Patient01711_Plane6_1_of_3', 'Patient01541_Plane6_1_of_2', 'Patient01372_Plane6_1_of_2', 'Patient01151_Plane6_1_of_3', 'Patient01616_Plane6_1_of_1', 'Patient01433_Plane6_3_of_5', 'Patient01456_Plane6_1_of_1', 'Patient00216_Plane6_1_of_3', 'Patient01500_Plane6_1_of_1', 'Patient01271_Plane6_1_of_2', 'Patient00815_Plane6_3_of_3', 'Patient01778_Plane6_2_of_2', 'Patient01695_Plane6_1_of_1', 'Patient01648_Plane6_2_of_2', 'Patient00951_Plane6_1_of_1', 'Patient00692_Plane6_1_of_2', 'Patient01475_Plane6_1_of_2', 'Patient00709_Plane6_1_of_1', 'Patient01443_Plane6_1_of_1', 'Patient01761_Plane6_3_of_5', 'Patient01634_Plane6_1_of_1', 'Patient01710_Plane6_1_of_2', 'Patient01433_Plane6_2_of_5', 'Patient01395_Plane6_1_of_1', 'Patient01588_Plane6_1_of_2', 'Patient01680_Plane6_1_of_1', 'Patient01652_Plane6_1_of_1', 'Patient00962_Plane6_2_of_2', 'Patient01610_Plane6_1_of_2', 'Patient01018_Plane6_1_of_1', 'Patient00930_Plane6_2_of_3', 'Patient01692_Plane6_1_of_1', 'Patient00841_Plane6_1_of_2', 'Patient00930_Plane6_1_of_3', 'Patient00692_Plane6_2_of_2', 'Patient01792_Plane6_1_of_1', 'Patient01408_Plane6_1_of_2', 'Patient01590_Plane6_1_of_1', 'Patient01389_Plane6_1_of_1', 'Patient01567_Plane6_2_of_2', 'Patient01677_Plane6_1_of_1', 'Patient01436_Plane6_1_of_1', 'Patient01271_Plane6_2_of_2', 'Patient01760_Plane6_1_of_1', 'Patient01787_Plane6_2_of_2', 'Patient01551_Plane6_1_of_1', 'Patient01487_Plane6_1_of_1', 'Patient01779_Plane6_3_of_3', 'Patient01408_Plane6_2_of_2', 'Patient01151_Plane6_3_of_3', 'Patient00305_Plane6_1_of_3', 'Patient01471_Plane6_2_of_2', 'Patient01392_Plane6_1_of_1', 'Patient01406_Plane6_1_of_1', 'Patient01761_Plane6_2_of_5', 'Patient01785_Plane6_1_of_1', 'Patient01779_Plane6_2_of_3', 'Patient00724_Plane6_1_of_2', 'Patient01496_Plane6_1_of_1', 'Patient01761_Plane6_1_of_5', 'Patient01779_Plane6_1_of_3', 'Patient00696_Plane6_1_of_2', 'Patient01399_Plane6_1_of_1', 'Patient00305_Plane6_2_of_3', 'Patient00698_Plane6_1_of_1', 'Patient01648_Plane6_1_of_2', 'Patient01306_Plane6_1_of_1', 'Patient01433_Plane6_1_of_5', 'Patient01647_Plane6_1_of_4', 'Patient00724_Plane6_2_of_2', 'Patient01100_Plane6_1_of_1', 'Patient01440_Plane6_1_of_1', 'Patient00216_Plane6_3_of_3', 'Patient01718_Plane6_1_of_2', 'Patient01647_Plane6_2_of_4', 'Patient01543_Plane6_1_of_1', 'Patient01761_Plane6_5_of_5', 'Patient01711_Plane6_2_of_3', 'Patient01689_Plane6_2_of_3', 'Patient01693_Plane6_2_of_2', 'Patient01489_Plane6_1_of_1', 'Patient01405_Plane6_1_of_1', 'Patient01777_Plane6_1_of_1', 'Patient01761_Plane6_4_of_5', 'Patient01698_Plane6_2_of_3', 'Patient00305_Plane6_3_of_3', 'Patient01372_Plane6_2_of_2', 'Patient01786_Plane6_1_of_1', 'Patient01098_Plane6_1_of_1', 'Patient01718_Plane6_2_of_2', 'Patient00930_Plane6_3_of_3', 'Patient01650_Plane6_1_of_1', 'Patient01588_Plane6_2_of_2', 'Patient00708_Plane6_2_of_2', 'Patient00962_Plane6_1_of_2', 'Patient00686_Plane6_1_of_1', 'Patient01689_Plane6_1_of_3', 'Patient00216_Plane6_2_of_3', 'Patient01710_Plane6_2_of_2', 'Patient01433_Plane6_4_of_5', 'Patient01539_Plane6_1_of_1', 'Patient01540_Plane6_1_of_1', 'Patient00710_Plane6_1_of_1', 'Patient01391_Plane6_1_of_2', 'Patient01610_Plane6_2_of_2', 'Patient01567_Plane6_1_of_2', 'Patient01409_Plane6_2_of_2', 'Patient01480_Plane6_1_of_1', 'Patient01698_Plane6_1_of_3', 'Patient01453_Plane6_1_of_1', 'Patient00696_Plane6_2_of_2', 'Patient01693_Plane6_1_of_2', 'Patient00815_Plane6_2_of_3', 'Patient01275_Plane6_1_of_1', 'Patient01541_Plane6_2_of_2', 'Patient01787_Plane6_1_of_2', 'Patient00816_Plane6_1_of_1', 'Patient00841_Plane6_2_of_2', 'Patient01763_Plane6_1_of_1', 'Patient01689_Plane6_3_of_3', 'Patient01712_Plane6_1_of_1', 'Patient01534_Plane6_1_of_1', 'Patient01398_Plane6_1_of_1', 'Patient00644_Plane6_1_of_1', 'Patient01445_Plane6_1_of_1', 'Patient00776_Plane6_1_of_1', 'Patient01647_Plane6_4_of_4', 'Patient01409_Plane6_1_of_2', 'Patient01647_Plane6_3_of_4', 'Patient01433_Plane6_5_of_5', 'Patient00708_Plane6_1_of_2', 'Patient01442_Plane6_1_of_1', 'Patient01151_Plane6_2_of_3', 'Patient01391_Plane6_2_of_2', 'Patient00840_Plane6_1_of_1', 'Patient01501_Plane6_1_of_1', 'Patient01016_Plane6_1_of_1', 'Patient01711_Plane6_3_of_3', 'Patient01713_Plane6_1_of_1', 'Patient01778_Plane6_1_of_2', 'Patient01789_Plane6_1_of_1', 'Patient00815_Plane6_1_of_3']\n"
          ]
        }
      ]
    },
    {
      "cell_type": "markdown",
      "source": [
        "**Split the dataset into train and test dataset**"
      ],
      "metadata": {
        "id": "LvyyCdmolBhc"
      },
      "id": "LvyyCdmolBhc"
    },
    {
      "cell_type": "code",
      "source": [
        "train_dataset = 0.5\n",
        "\n",
        "split_1 = int(train_dataset * len(all_images))\n",
        "\n",
        "train_images = all_images[:split_1]\n",
        "test_images = all_images[split_1:]\n",
        "\n",
        "print(split_1)\n",
        "\n",
        "print(train_images)\n",
        "print(test_images)\n",
        "\n",
        "print(len(train_images))\n",
        "print(len(test_images))"
      ],
      "metadata": {
        "colab": {
          "base_uri": "https://localhost:8080/"
        },
        "id": "IVjYwg8BlAKe",
        "outputId": "f71bac73-e1c2-43a6-e256-eb6799cef053"
      },
      "id": "IVjYwg8BlAKe",
      "execution_count": null,
      "outputs": [
        {
          "output_type": "stream",
          "name": "stdout",
          "text": [
            "73\n",
            "['Patient01475_Plane6_2_of_2', 'Patient01698_Plane6_3_of_3', 'Patient01625_Plane6_1_of_1', 'Patient01471_Plane6_1_of_2', 'Patient01402_Plane6_1_of_1', 'Patient01711_Plane6_1_of_3', 'Patient01541_Plane6_1_of_2', 'Patient01372_Plane6_1_of_2', 'Patient01151_Plane6_1_of_3', 'Patient01616_Plane6_1_of_1', 'Patient01433_Plane6_3_of_5', 'Patient01456_Plane6_1_of_1', 'Patient00216_Plane6_1_of_3', 'Patient01500_Plane6_1_of_1', 'Patient01271_Plane6_1_of_2', 'Patient00815_Plane6_3_of_3', 'Patient01778_Plane6_2_of_2', 'Patient01695_Plane6_1_of_1', 'Patient01648_Plane6_2_of_2', 'Patient00951_Plane6_1_of_1', 'Patient00692_Plane6_1_of_2', 'Patient01475_Plane6_1_of_2', 'Patient00709_Plane6_1_of_1', 'Patient01443_Plane6_1_of_1', 'Patient01761_Plane6_3_of_5', 'Patient01634_Plane6_1_of_1', 'Patient01710_Plane6_1_of_2', 'Patient01433_Plane6_2_of_5', 'Patient01395_Plane6_1_of_1', 'Patient01588_Plane6_1_of_2', 'Patient01680_Plane6_1_of_1', 'Patient01652_Plane6_1_of_1', 'Patient00962_Plane6_2_of_2', 'Patient01610_Plane6_1_of_2', 'Patient01018_Plane6_1_of_1', 'Patient00930_Plane6_2_of_3', 'Patient01692_Plane6_1_of_1', 'Patient00841_Plane6_1_of_2', 'Patient00930_Plane6_1_of_3', 'Patient00692_Plane6_2_of_2', 'Patient01792_Plane6_1_of_1', 'Patient01408_Plane6_1_of_2', 'Patient01590_Plane6_1_of_1', 'Patient01389_Plane6_1_of_1', 'Patient01567_Plane6_2_of_2', 'Patient01677_Plane6_1_of_1', 'Patient01436_Plane6_1_of_1', 'Patient01271_Plane6_2_of_2', 'Patient01760_Plane6_1_of_1', 'Patient01787_Plane6_2_of_2', 'Patient01551_Plane6_1_of_1', 'Patient01487_Plane6_1_of_1', 'Patient01779_Plane6_3_of_3', 'Patient01408_Plane6_2_of_2', 'Patient01151_Plane6_3_of_3', 'Patient00305_Plane6_1_of_3', 'Patient01471_Plane6_2_of_2', 'Patient01392_Plane6_1_of_1', 'Patient01406_Plane6_1_of_1', 'Patient01761_Plane6_2_of_5', 'Patient01785_Plane6_1_of_1', 'Patient01779_Plane6_2_of_3', 'Patient00724_Plane6_1_of_2', 'Patient01496_Plane6_1_of_1', 'Patient01761_Plane6_1_of_5', 'Patient01779_Plane6_1_of_3', 'Patient00696_Plane6_1_of_2', 'Patient01399_Plane6_1_of_1', 'Patient00305_Plane6_2_of_3', 'Patient00698_Plane6_1_of_1', 'Patient01648_Plane6_1_of_2', 'Patient01306_Plane6_1_of_1', 'Patient01433_Plane6_1_of_5']\n",
            "['Patient01647_Plane6_1_of_4', 'Patient00724_Plane6_2_of_2', 'Patient01100_Plane6_1_of_1', 'Patient01440_Plane6_1_of_1', 'Patient00216_Plane6_3_of_3', 'Patient01718_Plane6_1_of_2', 'Patient01647_Plane6_2_of_4', 'Patient01543_Plane6_1_of_1', 'Patient01761_Plane6_5_of_5', 'Patient01711_Plane6_2_of_3', 'Patient01689_Plane6_2_of_3', 'Patient01693_Plane6_2_of_2', 'Patient01489_Plane6_1_of_1', 'Patient01405_Plane6_1_of_1', 'Patient01777_Plane6_1_of_1', 'Patient01761_Plane6_4_of_5', 'Patient01698_Plane6_2_of_3', 'Patient00305_Plane6_3_of_3', 'Patient01372_Plane6_2_of_2', 'Patient01786_Plane6_1_of_1', 'Patient01098_Plane6_1_of_1', 'Patient01718_Plane6_2_of_2', 'Patient00930_Plane6_3_of_3', 'Patient01650_Plane6_1_of_1', 'Patient01588_Plane6_2_of_2', 'Patient00708_Plane6_2_of_2', 'Patient00962_Plane6_1_of_2', 'Patient00686_Plane6_1_of_1', 'Patient01689_Plane6_1_of_3', 'Patient00216_Plane6_2_of_3', 'Patient01710_Plane6_2_of_2', 'Patient01433_Plane6_4_of_5', 'Patient01539_Plane6_1_of_1', 'Patient01540_Plane6_1_of_1', 'Patient00710_Plane6_1_of_1', 'Patient01391_Plane6_1_of_2', 'Patient01610_Plane6_2_of_2', 'Patient01567_Plane6_1_of_2', 'Patient01409_Plane6_2_of_2', 'Patient01480_Plane6_1_of_1', 'Patient01698_Plane6_1_of_3', 'Patient01453_Plane6_1_of_1', 'Patient00696_Plane6_2_of_2', 'Patient01693_Plane6_1_of_2', 'Patient00815_Plane6_2_of_3', 'Patient01275_Plane6_1_of_1', 'Patient01541_Plane6_2_of_2', 'Patient01787_Plane6_1_of_2', 'Patient00816_Plane6_1_of_1', 'Patient00841_Plane6_2_of_2', 'Patient01763_Plane6_1_of_1', 'Patient01689_Plane6_3_of_3', 'Patient01712_Plane6_1_of_1', 'Patient01534_Plane6_1_of_1', 'Patient01398_Plane6_1_of_1', 'Patient00644_Plane6_1_of_1', 'Patient01445_Plane6_1_of_1', 'Patient00776_Plane6_1_of_1', 'Patient01647_Plane6_4_of_4', 'Patient01409_Plane6_1_of_2', 'Patient01647_Plane6_3_of_4', 'Patient01433_Plane6_5_of_5', 'Patient00708_Plane6_1_of_2', 'Patient01442_Plane6_1_of_1', 'Patient01151_Plane6_2_of_3', 'Patient01391_Plane6_2_of_2', 'Patient00840_Plane6_1_of_1', 'Patient01501_Plane6_1_of_1', 'Patient01016_Plane6_1_of_1', 'Patient01711_Plane6_3_of_3', 'Patient01713_Plane6_1_of_1', 'Patient01778_Plane6_1_of_2', 'Patient01789_Plane6_1_of_1', 'Patient00815_Plane6_1_of_3']\n",
            "73\n",
            "74\n"
          ]
        }
      ]
    },
    {
      "cell_type": "markdown",
      "source": [
        "Store the train and test dataset into specific folders."
      ],
      "metadata": {
        "id": "PBeG4iAAmdQQ"
      },
      "id": "PBeG4iAAmdQQ"
    },
    {
      "cell_type": "code",
      "source": [
        "import shutil\n",
        "\n",
        "folder_name_train = f\"/content/drive/MyDrive/Original_Images/Train_{plane}_{operator_number}_{us_machine}_{brain_plane}_{image_size}\"  \n",
        "folder_name_test = f\"/content/drive/MyDrive/Original_Images/Test_{plane}_{operator_number}_{us_machine}_{brain_plane}_{image_size}\"  \n",
        "\n",
        "\n",
        "if not os.path.exists(folder_name_train):\n",
        "    os.mkdir(folder_name_train)    #make new folder\n",
        "if not os.path.exists(folder_name_test):\n",
        "    os.mkdir(folder_name_test)    #make new folder\n",
        "\n",
        "\n",
        "for id1 in range(0, len(train_images)):   # copy the train images into the folder\n",
        "    shutil.copy(os.path.join(dataset.root_dir, train_images[id1] + '.png'), folder_name_train)\n",
        "\n",
        "for id2 in range(0, len(test_images)):   # copy the test images into the folder\n",
        "    shutil.copy(os.path.join(dataset.root_dir, test_images[id2] + '.png'), folder_name_test)"
      ],
      "metadata": {
        "id": "FX6urPznmcoz"
      },
      "id": "FX6urPznmcoz",
      "execution_count": null,
      "outputs": []
    },
    {
      "cell_type": "code",
      "source": [
        "os.path.join(dataset.root_dir, test_images[2] + '.png')\n",
        "\n",
        "print(sum(os.path.isfile(os.path.join(folder_name_train, name)) for name in os.listdir(folder_name_train)))\n",
        "print(sum(os.path.isfile(os.path.join(folder_name_test, name)) for name in os.listdir(folder_name_test)))"
      ],
      "metadata": {
        "id": "kXwxlWOPwsnK",
        "colab": {
          "base_uri": "https://localhost:8080/"
        },
        "outputId": "ed9700cf-7c43-4569-e309-5f31771e253f"
      },
      "id": "kXwxlWOPwsnK",
      "execution_count": null,
      "outputs": [
        {
          "output_type": "stream",
          "name": "stdout",
          "text": [
            "73\n",
            "74\n"
          ]
        }
      ]
    }
  ],
  "metadata": {
    "accelerator": "GPU",
    "colab": {
      "provenance": [],
      "include_colab_link": true
    },
    "gpuClass": "standard",
    "kernelspec": {
      "display_name": "Python 3 (ipykernel)",
      "language": "python",
      "name": "python3"
    },
    "language_info": {
      "codemirror_mode": {
        "name": "ipython",
        "version": 3
      },
      "file_extension": ".py",
      "mimetype": "text/x-python",
      "name": "python",
      "nbconvert_exporter": "python",
      "pygments_lexer": "ipython3",
      "version": "3.9.13"
    }
  },
  "nbformat": 4,
  "nbformat_minor": 5
}